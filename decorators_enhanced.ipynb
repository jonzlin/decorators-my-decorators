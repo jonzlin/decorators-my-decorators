{
 "cells": [
  {
   "cell_type": "markdown",
   "metadata": {
    "slideshow": {
     "slide_type": "slide"
    }
   },
   "source": [
    "<p>\n",
    "<center>Decorators! You Should Use Them More</center>\n",
    "===============================================\n",
    "<center>![Decorators](http://www.moma.org/explore/inside_out/inside_out/wp-content/uploads/2010/03/At-symbol-4.sm_1.jpg)</center>"
   ]
  },
  {
   "cell_type": "markdown",
   "metadata": {
    "slideshow": {
     "slide_type": "slide"
    }
   },
   "source": [
    "What is the Thing?\n",
    "==================\n",
    "\n",
    "    - Not a special as they think they are.\n",
    "    - Fancy way of making a function sandwich."
   ]
  },
  {
   "cell_type": "code",
   "execution_count": 1,
   "metadata": {
    "scrolled": true,
    "slideshow": {
     "slide_type": "slide"
    }
   },
   "outputs": [
    {
     "data": {
      "text/plain": [
       "3"
      ]
     },
     "execution_count": 1,
     "metadata": {},
     "output_type": "execute_result"
    }
   ],
   "source": [
    "# Function composition with ints\n",
    "def f(x):\n",
    "    return x\n",
    "def g(x):\n",
    "    return x + 1\n",
    "\n",
    "g(f(2))"
   ]
  },
  {
   "cell_type": "markdown",
   "metadata": {
    "slideshow": {
     "slide_type": "notes"
    }
   },
   "source": [
    "When I talk about function composition, this is what I'm talking about- taking the output of one function, and directly feeding it into another function.\n",
    "\n",
    "You've likely seen this more in mathematics, or in functional programming languages."
   ]
  },
  {
   "cell_type": "code",
   "execution_count": 2,
   "metadata": {
    "collapsed": true,
    "slideshow": {
     "slide_type": "subslide"
    }
   },
   "outputs": [],
   "source": [
    "def fred():\n",
    "    print(\"Hi, I'm Fred.\")"
   ]
  },
  {
   "cell_type": "code",
   "execution_count": 3,
   "metadata": {
    "collapsed": true,
    "slideshow": {
     "slide_type": "fragment"
    }
   },
   "outputs": [],
   "source": [
    "gred = fred"
   ]
  },
  {
   "cell_type": "markdown",
   "metadata": {
    "slideshow": {
     "slide_type": "notes"
    }
   },
   "source": [
    "It should be noted that in python, functions can be passed around or set to a variable, just like any other type. In this way, they can also be passed into other functions as parameters."
   ]
  },
  {
   "cell_type": "code",
   "execution_count": 4,
   "metadata": {
    "scrolled": true,
    "slideshow": {
     "slide_type": "subslide"
    }
   },
   "outputs": [
    {
     "data": {
      "text/plain": [
       "<function __main__.fred>"
      ]
     },
     "execution_count": 4,
     "metadata": {},
     "output_type": "execute_result"
    }
   ],
   "source": [
    "gred"
   ]
  },
  {
   "cell_type": "code",
   "execution_count": 5,
   "metadata": {
    "collapsed": true,
    "slideshow": {
     "slide_type": "subslide"
    }
   },
   "outputs": [],
   "source": [
    "def gred(x):\n",
    "    \"\"\"Function to call another function.\n",
    "    \n",
    "    Parameters\n",
    "    ----------\n",
    "    x : callable\n",
    "    \"\"\"\n",
    "    return x()"
   ]
  },
  {
   "cell_type": "markdown",
   "metadata": {
    "slideshow": {
     "slide_type": "notes"
    }
   },
   "source": [
    "So in this example, I'm going to repurpose gred. Instead, it's not going to be a function that takes in a callable function, x, and calls it."
   ]
  },
  {
   "cell_type": "code",
   "execution_count": 6,
   "metadata": {
    "scrolled": true,
    "slideshow": {
     "slide_type": "subslide"
    }
   },
   "outputs": [
    {
     "name": "stdout",
     "output_type": "stream",
     "text": [
      "Hi, I'm Fred.\n"
     ]
    }
   ],
   "source": [
    "gred(fred)"
   ]
  },
  {
   "cell_type": "markdown",
   "metadata": {
    "slideshow": {
     "slide_type": "slide"
    }
   },
   "source": [
    "Why Do We Want to Do the Thing?\n",
    "==================\n",
    "\n",
    "    - Additions to Unchangable Code\n",
    "    - Concision of Code\n",
    "    - Pre/Post Processing"
   ]
  },
  {
   "cell_type": "markdown",
   "metadata": {
    "slideshow": {
     "slide_type": "notes"
    }
   },
   "source": [
    "Unchangable Code:\n",
    "    - If you have a block of code that you don't want changed (or, that can't be changed, because it's imported from somewhere else, decorators allow you to examine inputs and outputs, perform actions based on those, and execute the original function, unmarred. This can be as simple as printing the return to another output, or more complex, like examing incoming arguments for particular characteristics, across MANY functions.\n",
    "\n",
    "Concision of Code:\n",
    "    - If you have something you want to do often, but to different functions, without having to re-write the same function block or function call in every function you want that action in.\n",
    "\n",
    "Pre/Post Processing:\n",
    "    - If you know that the return of a function is going to be of a particular type, you can tack on a decorator to post process that data in a different fashion. Alternately, use a decorator to pre-process the arguments, before they're even fed in."
   ]
  },
  {
   "cell_type": "code",
   "execution_count": 7,
   "metadata": {
    "collapsed": true,
    "slideshow": {
     "slide_type": "subslide"
    }
   },
   "outputs": [],
   "source": [
    "def greeting(unchanging_introduce_func):\n",
    "    def introduce(*args, **kwargs):\n",
    "        print(\"Hello, I'm George.\")\n",
    "        unchanging_introduce_func(*args, **kwargs)\n",
    "        print(\n",
    "            \"Nice to meet you, %s, I'm George.\" % \n",
    "            unchanging_introduce_func.__name__\n",
    "        )\n",
    "    return introduce"
   ]
  },
  {
   "cell_type": "code",
   "execution_count": 8,
   "metadata": {
    "collapsed": true,
    "slideshow": {
     "slide_type": "subslide"
    }
   },
   "outputs": [],
   "source": [
    "@greeting\n",
    "def fred():\n",
    "    print(\"Hi, I'm Fred.\")"
   ]
  },
  {
   "cell_type": "code",
   "execution_count": 11,
   "metadata": {
    "slideshow": {
     "slide_type": "subslide"
    }
   },
   "outputs": [
    {
     "name": "stdout",
     "output_type": "stream",
     "text": [
      "Hello, I'm George.\n",
      "Hi, I'm Fred.\n",
      "Nice to meet you, fred, I'm George.\n"
     ]
    }
   ],
   "source": [
    "fred()"
   ]
  },
  {
   "cell_type": "markdown",
   "metadata": {
    "slideshow": {
     "slide_type": "slide"
    }
   },
   "source": [
    "Ho-Hum. What Else Can You Do?\n",
    "==============================\n",
    "\n",
    "    - Let's take a look at another function. \n",
    "    - This one does something \"longer\".\n",
    "    - (Mostly because we force it to.)\n",
    "    - (You'll see.)"
   ]
  },
  {
   "cell_type": "code",
   "execution_count": 12,
   "metadata": {
    "collapsed": true,
    "slideshow": {
     "slide_type": "subslide"
    }
   },
   "outputs": [],
   "source": [
    "import time\n",
    "def play_match():\n",
    "    points = 0\n",
    "    while points < 150:   \n",
    "        time.sleep(0.001)\n",
    "        points += 1\n",
    "    else:\n",
    "        print('Snitch was caught!')"
   ]
  },
  {
   "cell_type": "code",
   "execution_count": 13,
   "metadata": {
    "scrolled": true,
    "slideshow": {
     "slide_type": "subslide"
    }
   },
   "outputs": [
    {
     "name": "stdout",
     "output_type": "stream",
     "text": [
      "Snitch was caught!\n"
     ]
    }
   ],
   "source": [
    "play_match()"
   ]
  },
  {
   "cell_type": "markdown",
   "metadata": {
    "slideshow": {
     "slide_type": "slide"
    }
   },
   "source": [
    "Excuse Me, I Have Some Concerns\n",
    "=====================================================\n",
    "\n",
    "    - This is nice, but we have no idea how long that took.\n",
    "    - What if this was a world-record-setting match? We'd never know.\n",
    "    - Need to find a way to keep track of how long this is taking."
   ]
  },
  {
   "cell_type": "code",
   "execution_count": 14,
   "metadata": {
    "collapsed": true,
    "slideshow": {
     "slide_type": "subslide"
    }
   },
   "outputs": [],
   "source": [
    "def timer(unchanging_func):\n",
    "    def inner(*args, **kwargs):\n",
    "        t = time.time()\n",
    "        unchanging_func(*args, **kwargs)\n",
    "        print(\n",
    "            '%s took %0.2f seconds.' %\n",
    "            (unchanging_func.__name__, time.time() - t)\n",
    "        )\n",
    "    return inner"
   ]
  },
  {
   "cell_type": "code",
   "execution_count": 16,
   "metadata": {
    "collapsed": true,
    "slideshow": {
     "slide_type": "subslide"
    }
   },
   "outputs": [],
   "source": [
    "@timer\n",
    "def play_match():\n",
    "    points = 0\n",
    "    while points < 150:\n",
    "        time.sleep(0.001)\n",
    "        points += 1\n",
    "    else:\n",
    "        print('Snitch was caught!')"
   ]
  },
  {
   "cell_type": "code",
   "execution_count": 17,
   "metadata": {
    "slideshow": {
     "slide_type": "subslide"
    }
   },
   "outputs": [
    {
     "name": "stdout",
     "output_type": "stream",
     "text": [
      "Snitch was caught!\n",
      "play_match took 0.20 seconds.\n"
     ]
    }
   ],
   "source": [
    "play_match()"
   ]
  },
  {
   "cell_type": "code",
   "execution_count": 18,
   "metadata": {
    "slideshow": {
     "slide_type": "slide"
    }
   },
   "outputs": [
    {
     "name": "stdout",
     "output_type": "stream",
     "text": [
      "Snitch was caught!\n",
      "play_match took 0.20 seconds.\n"
     ]
    }
   ],
   "source": [
    "# Check equivalency of using @ syntax.\n",
    "def play_match():\n",
    "    points = 0\n",
    "    while points < 150:\n",
    "        time.sleep(0.001)\n",
    "        points += 1\n",
    "    else:\n",
    "        print('Snitch was caught!')\n",
    "\n",
    "play_match_func = timer(play_match)\n",
    "# Need to call at the end, because timer returns a function.\n",
    "play_match_func()"
   ]
  },
  {
   "cell_type": "markdown",
   "metadata": {
    "slideshow": {
     "slide_type": "slide"
    }
   },
   "source": [
    "You Promised this Could Save Me Time. I'm not Seeing It.\n",
    "=======\n",
    "\n",
    "    - Alright look. I can only talk so fast.\n",
    "    - I'm good, but not that good."
   ]
  },
  {
   "cell_type": "code",
   "execution_count": 25,
   "metadata": {
    "collapsed": true,
    "slideshow": {
     "slide_type": "slide"
    }
   },
   "outputs": [],
   "source": [
    "from functools import wraps\n",
    "\n",
    "def validate_credentials(endpoint_method):\n",
    "    \"\"\"Decorator intended to wrap RequestHandler methods to check basic auth.\n",
    "    \"\"\"\n",
    "    @wraps(f)\n",
    "    def wrapped(self, *args, **kwargs):\n",
    "        def _error():\n",
    "            self.set_status(401, \"Unauthorized\")\n",
    "            self.write(\"Provided username and password for server are incorrect.\")\n",
    "            self.finish()\n",
    "\n",
    "        # There's some complexity here that's being abstracted away, because\n",
    "        # basic auth normally comes in base64 encoded.\n",
    "        auth_header = self.request.headers['Authorization']\n",
    "        username, password = auth_header.split(':', 1)\n",
    "        \n",
    "        # Also, normally you'd want to use something like compare_digest, to avoid\n",
    "        # timing attacks for string compare vs immediate rejection.\n",
    "        if self.expected_password == password:\n",
    "            return endpoint_method(self, *args, **kwargs)\n",
    "        else:\n",
    "            return _error()\n",
    "\n",
    "    return wrapped"
   ]
  },
  {
   "cell_type": "code",
   "execution_count": 28,
   "metadata": {
    "collapsed": true,
    "slideshow": {
     "slide_type": "subslide"
    }
   },
   "outputs": [],
   "source": [
    "class FakeHandler:\n",
    "    def __init__(self, expected_username, expected_password):\n",
    "        self.expected_username = expected_username\n",
    "        self.expected_password = expected_password\n",
    "\n",
    "    def set_status(self, code, reason):\n",
    "        self.status = (code, reason)\n",
    "\n",
    "    def write(self, output):\n",
    "        self.output = output\n",
    "\n",
    "    def finish(self):\n",
    "        pass\n",
    "\n",
    "    @validate_credentials\n",
    "    def my_endpoint(self):\n",
    "        return \"SENSITIVE DATA\"\n",
    "\n",
    "class FakeRequest:\n",
    "    def __init__(self, username, password):\n",
    "        auth_str = (username + ':' + password)\n",
    "        self.headers = {'Authorization': auth_str}\n",
    "\n",
    "# Kids, don't ever do this at home. I'm a trained scientist.\n",
    "req_handler = FakeHandler('username', 'password')\n",
    "req_handler.request = FakeRequest('username', 'notapassword')"
   ]
  },
  {
   "cell_type": "code",
   "execution_count": 30,
   "metadata": {
    "slideshow": {
     "slide_type": "subslide"
    }
   },
   "outputs": [
    {
     "data": {
      "text/plain": [
       "(401, 'Unauthorized')"
      ]
     },
     "execution_count": 30,
     "metadata": {},
     "output_type": "execute_result"
    }
   ],
   "source": [
    "ret = req_handler.my_endpoint()\n",
    "ret\n",
    "req_handler.status"
   ]
  },
  {
   "cell_type": "markdown",
   "metadata": {
    "slideshow": {
     "slide_type": "notes"
    }
   },
   "source": [
    "For anyone who has worked with Tornado servers in the past, this will look very familiar. This is essentially me mocking out the request that would be sent, and the RequestHandler that would handle the reuqest. There's a quirk of the way that I'm writing it, in that the request object is being set on the handler- that's mostly to contimnue emulating Tornado's style. \n",
    "\n",
    "The nice thing about having the validate decorator, is that every endpoint can now be validated, without needing to add the validation code into the beginning of every function. Alternately, you can decide which of your endpoints you want to validate, if there are some that should be public and not require validation."
   ]
  },
  {
   "cell_type": "markdown",
   "metadata": {
    "slideshow": {
     "slide_type": "notes"
    }
   },
   "source": [
    "Sidebar, @wraps is really cool! Let's talk about it! But not now. Later."
   ]
  },
  {
   "cell_type": "markdown",
   "metadata": {
    "slideshow": {
     "slide_type": "slide"
    }
   },
   "source": [
    "That's Real Nice, But I Work with DATA. This can't help me, right?\n",
    "==========="
   ]
  },
  {
   "cell_type": "code",
   "execution_count": 31,
   "metadata": {
    "collapsed": true,
    "slideshow": {
     "slide_type": "subslide"
    }
   },
   "outputs": [],
   "source": [
    "points = [('Ginny', (50, 70, 10)), ('Alicia', (10, 20, 60)), \n",
    "          ('Angelina', (20, 10, 10)), ('Malfoy', (None, None, None))]"
   ]
  },
  {
   "cell_type": "code",
   "execution_count": 32,
   "metadata": {
    "collapsed": true,
    "slideshow": {
     "slide_type": "subslide"
    }
   },
   "outputs": [],
   "source": [
    "def i_am_dictionary(data):\n",
    "    return dict(data)"
   ]
  },
  {
   "cell_type": "code",
   "execution_count": 33,
   "metadata": {
    "slideshow": {
     "slide_type": "subslide"
    }
   },
   "outputs": [
    {
     "data": {
      "text/plain": [
       "{'Alicia': (10, 20, 60),\n",
       " 'Angelina': (20, 10, 10),\n",
       " 'Ginny': (50, 70, 10),\n",
       " 'Malfoy': (None, None, None)}"
      ]
     },
     "execution_count": 33,
     "metadata": {},
     "output_type": "execute_result"
    }
   ],
   "source": [
    "i_am_dictionary(points)"
   ]
  },
  {
   "cell_type": "code",
   "execution_count": 34,
   "metadata": {
    "slideshow": {
     "slide_type": "slide"
    }
   },
   "outputs": [],
   "source": [
    "import pandas as pd\n",
    "\n",
    "def make_me_a_df(unchanged_func):\n",
    "    def inner(*args, **kwargs):\n",
    "        ret = unchanged_func(*args, **kwargs)\n",
    "        return pd.DataFrame(ret)\n",
    "    return inner"
   ]
  },
  {
   "cell_type": "code",
   "execution_count": 35,
   "metadata": {
    "collapsed": true,
    "slideshow": {
     "slide_type": "subslide"
    }
   },
   "outputs": [],
   "source": [
    "@make_me_a_df\n",
    "def i_am_dictionary(data):\n",
    "    return dict(data)"
   ]
  },
  {
   "cell_type": "code",
   "execution_count": 36,
   "metadata": {
    "slideshow": {
     "slide_type": "subslide"
    }
   },
   "outputs": [
    {
     "data": {
      "text/html": [
       "<div>\n",
       "<style>\n",
       "    .dataframe thead tr:only-child th {\n",
       "        text-align: right;\n",
       "    }\n",
       "\n",
       "    .dataframe thead th {\n",
       "        text-align: left;\n",
       "    }\n",
       "\n",
       "    .dataframe tbody tr th {\n",
       "        vertical-align: top;\n",
       "    }\n",
       "</style>\n",
       "<table border=\"1\" class=\"dataframe\">\n",
       "  <thead>\n",
       "    <tr style=\"text-align: right;\">\n",
       "      <th></th>\n",
       "      <th>Alicia</th>\n",
       "      <th>Angelina</th>\n",
       "      <th>Ginny</th>\n",
       "      <th>Malfoy</th>\n",
       "    </tr>\n",
       "  </thead>\n",
       "  <tbody>\n",
       "    <tr>\n",
       "      <th>0</th>\n",
       "      <td>10</td>\n",
       "      <td>20</td>\n",
       "      <td>50</td>\n",
       "      <td>None</td>\n",
       "    </tr>\n",
       "    <tr>\n",
       "      <th>1</th>\n",
       "      <td>20</td>\n",
       "      <td>10</td>\n",
       "      <td>70</td>\n",
       "      <td>None</td>\n",
       "    </tr>\n",
       "    <tr>\n",
       "      <th>2</th>\n",
       "      <td>60</td>\n",
       "      <td>10</td>\n",
       "      <td>10</td>\n",
       "      <td>None</td>\n",
       "    </tr>\n",
       "  </tbody>\n",
       "</table>\n",
       "</div>"
      ],
      "text/plain": [
       "   Alicia  Angelina  Ginny Malfoy\n",
       "0      10        20     50   None\n",
       "1      20        10     70   None\n",
       "2      60        10     10   None"
      ]
     },
     "execution_count": 36,
     "metadata": {},
     "output_type": "execute_result"
    }
   ],
   "source": [
    "i_am_dictionary(points)"
   ]
  },
  {
   "cell_type": "markdown",
   "metadata": {
    "slideshow": {
     "slide_type": "slide"
    }
   },
   "source": [
    "Hold the Front Door! What if I have information that I want to pass to this decorator?\n",
    "======================================================================================\n",
    "\n",
    "    - Glad you asked! A decorator without (  ) is what we've seen above. \n",
    "    - But can also have a decorator factory!\n",
    "    - We need to go one layer deeper."
   ]
  },
  {
   "cell_type": "code",
   "execution_count": 37,
   "metadata": {
    "collapsed": true,
    "slideshow": {
     "slide_type": "subslide"
    }
   },
   "outputs": [],
   "source": [
    "def i_know_my_index(index):\n",
    "    def make_me_a_df(unchanged_func):\n",
    "        def inner(*args, **kwargs):\n",
    "            ret = unchanged_func(*args, **kwargs)\n",
    "            return pd.DataFrame(ret, index=index)\n",
    "        return inner\n",
    "    return make_me_a_df"
   ]
  },
  {
   "cell_type": "code",
   "execution_count": 46,
   "metadata": {
    "slideshow": {
     "slide_type": "subslide"
    }
   },
   "outputs": [
    {
     "data": {
      "text/html": [
       "<div>\n",
       "<style>\n",
       "    .dataframe thead tr:only-child th {\n",
       "        text-align: right;\n",
       "    }\n",
       "\n",
       "    .dataframe thead th {\n",
       "        text-align: left;\n",
       "    }\n",
       "\n",
       "    .dataframe tbody tr th {\n",
       "        vertical-align: top;\n",
       "    }\n",
       "</style>\n",
       "<table border=\"1\" class=\"dataframe\">\n",
       "  <thead>\n",
       "    <tr style=\"text-align: right;\">\n",
       "      <th></th>\n",
       "      <th>Alicia</th>\n",
       "      <th>Angelina</th>\n",
       "      <th>Ginny</th>\n",
       "      <th>Malfoy</th>\n",
       "    </tr>\n",
       "  </thead>\n",
       "  <tbody>\n",
       "    <tr>\n",
       "      <th>Hufflepuff</th>\n",
       "      <td>10</td>\n",
       "      <td>20</td>\n",
       "      <td>50</td>\n",
       "      <td>None</td>\n",
       "    </tr>\n",
       "    <tr>\n",
       "      <th>Slytherin</th>\n",
       "      <td>20</td>\n",
       "      <td>10</td>\n",
       "      <td>70</td>\n",
       "      <td>None</td>\n",
       "    </tr>\n",
       "    <tr>\n",
       "      <th>Ravenclaw</th>\n",
       "      <td>60</td>\n",
       "      <td>10</td>\n",
       "      <td>10</td>\n",
       "      <td>None</td>\n",
       "    </tr>\n",
       "  </tbody>\n",
       "</table>\n",
       "</div>"
      ],
      "text/plain": [
       "            Alicia  Angelina  Ginny Malfoy\n",
       "Hufflepuff      10        20     50   None\n",
       "Slytherin       20        10     70   None\n",
       "Ravenclaw       60        10     10   None"
      ]
     },
     "execution_count": 46,
     "metadata": {},
     "output_type": "execute_result"
    }
   ],
   "source": [
    "@i_know_my_index(['Hufflepuff', 'Slytherin', 'Ravenclaw'])\n",
    "def i_am_dictionary(data):\n",
    "    return dict(data)\n",
    "\n",
    "i_am_dictionary(points)\n",
    "# Take this a step further\n",
    "# idx = i_know_my_index(['Hufflepuff', 'Slytherin', 'Ravenclaw'])\n",
    "\n",
    "# @idx\n",
    "# def foo():\n",
    "#     return {1:[2, 3, 4], 2:[5, 6, 7]}\n",
    "\n",
    "# foo()"
   ]
  },
  {
   "cell_type": "markdown",
   "metadata": {
    "slideshow": {
     "slide_type": "slide"
    }
   },
   "source": [
    "But there's so much wrong with your data! What if I want to do multiple things to it?\n",
    "====================================\n",
    "\n",
    "    - Luckily for you, it can be decorators all the way down.\n",
    "    - Well, up, really.\n",
    "    - Stack 'em!"
   ]
  },
  {
   "cell_type": "code",
   "execution_count": 47,
   "metadata": {
    "collapsed": true,
    "slideshow": {
     "slide_type": "subslide"
    }
   },
   "outputs": [],
   "source": [
    "def drop_undesirables(names):\n",
    "    def wrapper(unchanging_func):\n",
    "        def inner(*args, **kwargs):\n",
    "            ret = unchanging_func(*args, **kwargs)\n",
    "            # We are assuming here that unchanging_func is\n",
    "            # a function that returns a pandas dataframe\n",
    "            return ret.drop(names, axis=1)\n",
    "        return inner\n",
    "    return wrapper"
   ]
  },
  {
   "cell_type": "code",
   "execution_count": 48,
   "metadata": {
    "collapsed": true,
    "slideshow": {
     "slide_type": "subslide"
    }
   },
   "outputs": [],
   "source": [
    "@drop_undesirables(['Malfoy'])\n",
    "@i_know_my_index(['Hufflepuff', 'Slytherin', 'Ravenclaw'])\n",
    "def i_am_dictionary(data):\n",
    "    return dict(data)"
   ]
  },
  {
   "cell_type": "code",
   "execution_count": 49,
   "metadata": {
    "scrolled": false,
    "slideshow": {
     "slide_type": "subslide"
    }
   },
   "outputs": [
    {
     "data": {
      "text/html": [
       "<div>\n",
       "<style>\n",
       "    .dataframe thead tr:only-child th {\n",
       "        text-align: right;\n",
       "    }\n",
       "\n",
       "    .dataframe thead th {\n",
       "        text-align: left;\n",
       "    }\n",
       "\n",
       "    .dataframe tbody tr th {\n",
       "        vertical-align: top;\n",
       "    }\n",
       "</style>\n",
       "<table border=\"1\" class=\"dataframe\">\n",
       "  <thead>\n",
       "    <tr style=\"text-align: right;\">\n",
       "      <th></th>\n",
       "      <th>Alicia</th>\n",
       "      <th>Angelina</th>\n",
       "      <th>Ginny</th>\n",
       "    </tr>\n",
       "  </thead>\n",
       "  <tbody>\n",
       "    <tr>\n",
       "      <th>Hufflepuff</th>\n",
       "      <td>10</td>\n",
       "      <td>20</td>\n",
       "      <td>50</td>\n",
       "    </tr>\n",
       "    <tr>\n",
       "      <th>Slytherin</th>\n",
       "      <td>20</td>\n",
       "      <td>10</td>\n",
       "      <td>70</td>\n",
       "    </tr>\n",
       "    <tr>\n",
       "      <th>Ravenclaw</th>\n",
       "      <td>60</td>\n",
       "      <td>10</td>\n",
       "      <td>10</td>\n",
       "    </tr>\n",
       "  </tbody>\n",
       "</table>\n",
       "</div>"
      ],
      "text/plain": [
       "            Alicia  Angelina  Ginny\n",
       "Hufflepuff      10        20     50\n",
       "Slytherin       20        10     70\n",
       "Ravenclaw       60        10     10"
      ]
     },
     "execution_count": 49,
     "metadata": {},
     "output_type": "execute_result"
    }
   ],
   "source": [
    "i_am_dictionary(points)"
   ]
  },
  {
   "cell_type": "markdown",
   "metadata": {
    "slideshow": {
     "slide_type": "slide"
    }
   },
   "source": [
    "<p>\n",
    "You've definitely proved that you're a huge nerd, but what about real life?\n",
    "===============================================================\n",
    "\n",
    "![HP](http://2.bp.blogspot.com/-s47QEiC70Us/Ve8vwLoc_OI/AAAAAAAACf8/PFfxYTp1fJQ/s640/hpsnitch.png)"
   ]
  },
  {
   "cell_type": "markdown",
   "metadata": {
    "slideshow": {
     "slide_type": "slide"
    }
   },
   "source": [
    "But How Is This Useful IRL?\n",
    "================\n",
    "\n",
    "    - Restful API w/ python?\n",
    "    - Remember my result"
   ]
  },
  {
   "cell_type": "code",
   "execution_count": 54,
   "metadata": {
    "collapsed": true,
    "slideshow": {
     "slide_type": "subslide"
    }
   },
   "outputs": [],
   "source": [
    "class MyAppDefinitelyNotFlask():\n",
    "    def __init__(self):\n",
    "        # Keep track of all routes/funcs\n",
    "        self.tracker = {}\n",
    "        \n",
    "    def route(self, path):\n",
    "        def wrapper(unchanging_func):\n",
    "            self.tracker[path] = unchanging_func\n",
    "            return unchanging_func\n",
    "        return wrapper\n",
    "        \n",
    "webthing = MyAppDefinitelyNotFlask()\n",
    "\n",
    "@webthing.route('/anger')\n",
    "def so_angry():\n",
    "    return '(╯°□°）╯︵ ┻━┻'"
   ]
  },
  {
   "cell_type": "code",
   "execution_count": 55,
   "metadata": {
    "slideshow": {
     "slide_type": "subslide"
    }
   },
   "outputs": [
    {
     "data": {
      "text/plain": [
       "{'/anger': <function __main__.so_angry>}"
      ]
     },
     "execution_count": 55,
     "metadata": {},
     "output_type": "execute_result"
    }
   ],
   "source": [
    "webthing.tracker"
   ]
  },
  {
   "cell_type": "markdown",
   "metadata": {
    "slideshow": {
     "slide_type": "slide"
    }
   },
   "source": [
    "Well that's nice, but not useful. What do I do with that?\n",
    "======\n",
    "\n",
    "    - If only there was some way to get back what \n",
    "    function I should call when I ask for a certain \n",
    "    route..."
   ]
  },
  {
   "cell_type": "code",
   "execution_count": 56,
   "metadata": {
    "collapsed": true,
    "slideshow": {
     "slide_type": "subslide"
    }
   },
   "outputs": [],
   "source": [
    "class MyAppDefinitelyNotFlask():\n",
    "    def __init__(self):\n",
    "        # Keep track of all routes/funcs\n",
    "        self.tracker = {}\n",
    "        \n",
    "    def route(self, path):\n",
    "        def wrapper(unchanging_func):\n",
    "            self.tracker[path] = unchanging_func\n",
    "            return unchanging_func\n",
    "        return wrapper\n",
    "    \n",
    "    def what_do(self, path):\n",
    "        # Assume for this that no one ever tries to get somewhere that \n",
    "        # doesn't exist.\n",
    "        # Note: Could potentially have user-passed args here.\n",
    "        return self.tracker[path]()\n",
    "        \n",
    "webthing = MyAppDefinitelyNotFlask()\n",
    "\n",
    "@webthing.route('/anger')\n",
    "def so_angry():\n",
    "    return '(╯°□°）╯︵ ┻━┻'"
   ]
  },
  {
   "cell_type": "code",
   "execution_count": 57,
   "metadata": {
    "slideshow": {
     "slide_type": "subslide"
    }
   },
   "outputs": [
    {
     "name": "stdout",
     "output_type": "stream",
     "text": [
      "(╯°□°）╯︵ ┻━┻\n"
     ]
    }
   ],
   "source": [
    "print(webthing.what_do('/anger'))"
   ]
  },
  {
   "cell_type": "markdown",
   "metadata": {
    "slideshow": {
     "slide_type": "slide"
    }
   },
   "source": [
    "Imagine that We're in a World Where Computation is Expensive\n",
    "=======\n",
    "\n",
    "    - We'd like to avoid that messy calculation over \n",
    "    and over again.\n",
    "    - It would be great if running a function with the same args would only require it to run the first\n",
    "    time.\n",
    "    - Any time after that, we can just return that \n",
    "    result."
   ]
  },
  {
   "cell_type": "code",
   "execution_count": 58,
   "metadata": {
    "collapsed": true,
    "slideshow": {
     "slide_type": "slide"
    }
   },
   "outputs": [],
   "source": [
    "def memo(unchanging_func):\n",
    "    \n",
    "    # Dict of tuple -> function result mappings.\n",
    "    result_cache = {}\n",
    "    \n",
    "    def wrapper(arg1, arg2):\n",
    "        try:\n",
    "            return result_cache[(arg1, arg2)]\n",
    "        except KeyError:\n",
    "            print(\"I didn't know that yet. Calculating.\")\n",
    "            ret = unchanging_func(arg1, arg2)\n",
    "            result_cache[(arg1, arg2)] = ret\n",
    "            return ret\n",
    "        \n",
    "    return wrapper"
   ]
  },
  {
   "cell_type": "code",
   "execution_count": 59,
   "metadata": {
    "collapsed": true,
    "slideshow": {
     "slide_type": "subslide"
    }
   },
   "outputs": [],
   "source": [
    "@memo\n",
    "def foo(x, y):\n",
    "    return x**y"
   ]
  },
  {
   "cell_type": "code",
   "execution_count": 63,
   "metadata": {
    "slideshow": {
     "slide_type": "subslide"
    }
   },
   "outputs": [
    {
     "data": {
      "text/plain": [
       "16"
      ]
     },
     "execution_count": 63,
     "metadata": {},
     "output_type": "execute_result"
    }
   ],
   "source": [
    "foo(2, 4)"
   ]
  },
  {
   "cell_type": "markdown",
   "metadata": {
    "slideshow": {
     "slide_type": "slide"
    }
   },
   "source": [
    "I've Seen these Shady @ Characters Around Before\n",
    "========\n",
    "\n",
    "    - Honestly, they're probably watching you.\n",
    "    - In most python development, you've likely \n",
    "    seen a few of these, mostly on class creation.\n",
    "        - @classmethod\n",
    "        - @staticmethod\n",
    "        - @abstractmethod\n",
    "        - @property"
   ]
  },
  {
   "cell_type": "code",
   "execution_count": 70,
   "metadata": {
    "scrolled": true,
    "slideshow": {
     "slide_type": "slide"
    }
   },
   "outputs": [
    {
     "data": {
      "text/plain": [
       "'You are a pizza with green peppers.'"
      ]
     },
     "execution_count": 70,
     "metadata": {},
     "output_type": "execute_result"
    }
   ],
   "source": [
    "class MyLargePizza():\n",
    "    def __init__(self, toppings=(\"nothing\",)):\n",
    "        self.toppings = toppings\n",
    "    \n",
    "    def what_am_i(self):\n",
    "        return 'You are a pizza with %s.' % ', '.join(self.toppings)\n",
    "    \n",
    "pizza = MyLargePizza(['green peppers'])\n",
    "pizza.what_am_i()"
   ]
  },
  {
   "cell_type": "code",
   "execution_count": 72,
   "metadata": {
    "slideshow": {
     "slide_type": "subslide"
    }
   },
   "outputs": [
    {
     "name": "stdout",
     "output_type": "stream",
     "text": [
      "cls is <class '__main__.MyLargePizza'>\n"
     ]
    },
    {
     "data": {
      "text/plain": [
       "'You are a pizza with green peppers.'"
      ]
     },
     "execution_count": 72,
     "metadata": {},
     "output_type": "execute_result"
    }
   ],
   "source": [
    "class MyLargePizza():\n",
    "    def __init__(self, toppings=()):\n",
    "        self.toppings = toppings\n",
    "        \n",
    "    @classmethod\n",
    "    def with_peppers(cls, **kwargs):\n",
    "        print('cls is %s' % cls)\n",
    "        return cls(['green peppers'], **kwargs)\n",
    "    \n",
    "    def eat(self):\n",
    "        # Ignore the negative slices problem. I'm pretty sure it's \n",
    "        # impossible to eat more than 8 slices anyway.\n",
    "        self.slices -= 1\n",
    "        return '%s slices remain!' % self.slices\n",
    "    \n",
    "    def what_am_i(self):\n",
    "        return 'You are a pizza with %s.' % ', '.join(self.toppings)\n",
    "    \n",
    "pizza = MyLargePizza.with_peppers()\n",
    "pizza.what_am_i()"
   ]
  },
  {
   "cell_type": "code",
   "execution_count": 74,
   "metadata": {
    "slideshow": {
     "slide_type": "subslide"
    }
   },
   "outputs": [
    {
     "name": "stdout",
     "output_type": "stream",
     "text": [
      "cls is <class '__main__.MyLargePizza'>\n"
     ]
    },
    {
     "data": {
      "text/plain": [
       "<__main__.MyLargePizza at 0x106c64b38>"
      ]
     },
     "execution_count": 74,
     "metadata": {},
     "output_type": "execute_result"
    }
   ],
   "source": [
    "pizza = MyLargePizza()\n",
    "pizza = MyLargePizza.with_peppers()\n",
    "pizza"
   ]
  },
  {
   "cell_type": "markdown",
   "metadata": {},
   "source": [
    "I Don't Really Care About the Instance, But I Still Have IMPORTANT Questions\n",
    "==========\n",
    "\n",
    "    - There's a decorator for that!"
   ]
  },
  {
   "cell_type": "code",
   "execution_count": 77,
   "metadata": {
    "slideshow": {
     "slide_type": "slide"
    }
   },
   "outputs": [
    {
     "data": {
      "text/plain": [
       "'You can consume 4.909011472359811 plain pizzas.'"
      ]
     },
     "execution_count": 77,
     "metadata": {},
     "output_type": "execute_result"
    }
   ],
   "source": [
    "class MyLargePizza():\n",
    "    def __init__(self, toppings=()):  \n",
    "        self.toppings = toppings\n",
    "        \n",
    "    @classmethod\n",
    "    def with_peppers(cls, **kwargs):\n",
    "        return cls(['green peppers'], **kwargs)\n",
    "    \n",
    "    def what_am_i(self):\n",
    "        return 'You are a pizza with %s.' % ', '.join(self.toppings)\n",
    "    \n",
    "    @staticmethod\n",
    "    def how_much_plain_can_i_eat(weight, pizza_weight=2.03707):\n",
    "        # https://www.dominos.com/en/assets/derived/pdf/DominosNutritionGuide_12-0924.pdf\n",
    "        # THIS IS MORE INFORMATION THAN ANYONE NEEDS.\n",
    "        \n",
    "        # Assume you can now eat a 10th of your weight in pizza.\n",
    "        return 'You can consume %s plain pizzas.' % (\n",
    "            weight / 10 / pizza_weight\n",
    "        )\n",
    "\n",
    "pizza = MyLargePizza()\n",
    "pizza.how_much_plain_can_i_eat(100)"
   ]
  },
  {
   "cell_type": "markdown",
   "metadata": {
    "slideshow": {
     "slide_type": "slide"
    }
   },
   "source": [
    "What if I Want an Abstract Pizza Class? The Origin of Pizza, One Might Say\n",
    "====\n",
    "\n",
    "    - Let me set the scene for you.\n",
    "    - It's a new world order. Plain pizza is no longer allowed. DOWN WITH PLAIN PIZZA."
   ]
  },
  {
   "cell_type": "code",
   "execution_count": 79,
   "metadata": {
    "slideshow": {
     "slide_type": "slide"
    }
   },
   "outputs": [
    {
     "ename": "TypeError",
     "evalue": "Can't instantiate abstract class MyLargePizza with abstract methods what_am_i",
     "output_type": "error",
     "traceback": [
      "\u001b[0;31m---------------------------------------------------------------------------\u001b[0m",
      "\u001b[0;31mTypeError\u001b[0m                                 Traceback (most recent call last)",
      "\u001b[0;32m<ipython-input-79-6d2889c2bfd4>\u001b[0m in \u001b[0;36m<module>\u001b[0;34m()\u001b[0m\n\u001b[1;32m     18\u001b[0m \u001b[0;31m# pizza.what_am_i()\u001b[0m\u001b[0;34m\u001b[0m\u001b[0;34m\u001b[0m\u001b[0m\n\u001b[1;32m     19\u001b[0m \u001b[0;34m\u001b[0m\u001b[0m\n\u001b[0;32m---> 20\u001b[0;31m \u001b[0mpizza\u001b[0m \u001b[0;34m=\u001b[0m \u001b[0mMyLargePizza\u001b[0m\u001b[0;34m(\u001b[0m\u001b[0;34m[\u001b[0m\u001b[0;34m'green pepper'\u001b[0m\u001b[0;34m]\u001b[0m\u001b[0;34m)\u001b[0m\u001b[0;34m\u001b[0m\u001b[0m\n\u001b[0m\u001b[1;32m     21\u001b[0m \u001b[0mpizza\u001b[0m\u001b[0;34m.\u001b[0m\u001b[0mwhat_am_i\u001b[0m\u001b[0;34m(\u001b[0m\u001b[0;34m)\u001b[0m\u001b[0;34m\u001b[0m\u001b[0m\n",
      "\u001b[0;31mTypeError\u001b[0m: Can't instantiate abstract class MyLargePizza with abstract methods what_am_i"
     ]
    }
   ],
   "source": [
    "from abc import ABCMeta, abstractmethod\n",
    "\n",
    "class PlainSadPizza(metaclass=ABCMeta):\n",
    "    @abstractmethod\n",
    "    def what_am_i(self):\n",
    "        \"\"\"Rules are rules. No plain.\"\"\"\n",
    "        \n",
    "class MyLargePizza(PlainSadPizza):\n",
    "    # Toppings is now mandatory. Don't try to be sly and pass me\n",
    "    # an empty iterable. I'll find you.\n",
    "    def __init__(self, toppings):  \n",
    "        self.toppings = toppings\n",
    "        \n",
    "    def what_am_i(self):\n",
    "        return 'You are a pizza with %s.' % ', '.join(self.toppings)\n",
    "    \n",
    "pizza = PlainSadPizza()\n",
    "pizza.what_am_i()\n",
    "\n",
    "# pizza = MyLargePizza(['green pepper'])\n",
    "# pizza.what_am_i()"
   ]
  },
  {
   "cell_type": "code",
   "execution_count": 86,
   "metadata": {},
   "outputs": [
    {
     "data": {
      "image/jpeg": "[encoded data removed]",
      "text/plain": [
       "<IPython.core.display.Image object>"
      ]
     },
     "execution_count": 86,
     "metadata": {},
     "output_type": "execute_result"
    }
   ],
   "source": [
    "from IPython.display import Image\n",
    "Image(filename='pizza.jpeg')\n",
    "\n",
    "class MyLargePizza():\n",
    "    def __init__(self, toppings=()):  \n",
    "        self.toppings = toppings\n",
    "        \n",
    "    @property\n",
    "    def pic(self):\n",
    "        return Image(filename='pizza.jpeg')\n",
    "\n",
    "pizza = MyLargePizza()\n",
    "pizza.pic"
   ]
  },
  {
   "cell_type": "markdown",
   "metadata": {
    "slideshow": {
     "slide_type": "slide"
    }
   },
   "source": [
    "Other Things of Note\n",
    "========\n",
    "    - `functools.wraps` provides a decorator that will make the decorated function \"look\" like the \n",
    "    original.\n"
   ]
  },
  {
   "cell_type": "code",
   "execution_count": null,
   "metadata": {
    "collapsed": true,
    "slideshow": {
     "slide_type": "subslide"
    }
   },
   "outputs": [],
   "source": [
    "def my_decorator(unchanging_func):\n",
    "    def inner(*args, **kwargs):\n",
    "        return unchanging_func(*args, **kwargs)\n",
    "    return inner\n",
    "\n",
    "@my_decorator\n",
    "def my_very_cool_function():\n",
    "    print(\"You 'da best.\")"
   ]
  },
  {
   "cell_type": "code",
   "execution_count": null,
   "metadata": {
    "collapsed": true,
    "slideshow": {
     "slide_type": "subslide"
    }
   },
   "outputs": [],
   "source": [
    "# What do we expect here?\n",
    "my_very_cool_function.__name__"
   ]
  },
  {
   "cell_type": "code",
   "execution_count": null,
   "metadata": {
    "collapsed": true,
    "slideshow": {
     "slide_type": "subslide"
    }
   },
   "outputs": [],
   "source": [
    "from functools import wraps\n",
    "\n",
    "def my_decorator(unchanging_func):\n",
    "    @wraps(unchanging_func)\n",
    "    def inner(*args, **kwargs):\n",
    "        return unchanging_func(*args, **kwargs)\n",
    "\n",
    "    return inner\n",
    "\n",
    "@my_decorator\n",
    "def my_very_cool_function():\n",
    "    print(\"You 'da best.\")"
   ]
  },
  {
   "cell_type": "code",
   "execution_count": null,
   "metadata": {
    "collapsed": true,
    "slideshow": {
     "slide_type": "subslide"
    }
   },
   "outputs": [],
   "source": [
    "my_very_cool_function.__name__"
   ]
  },
  {
   "cell_type": "markdown",
   "metadata": {
    "slideshow": {
     "slide_type": "slide"
    }
   },
   "source": [
    "Helpful References\n",
    "==================\n",
    "\n",
    "Great Code Examples:\n",
    "https://www.codeschool.com/blog/2016/05/12/a-guide-to-python-decorators/\n",
    "\n",
    "Developer Tea:\n",
    "https://spec.fm/podcasts/developer-tea/16125\n",
    "\n",
    "Challenge:\n",
    "https://github.com/quantopian/zipline/blob/51eda063238cd28b6b5cd61c3fb887d2a773e8ce/tests/data/bundles/test_quandl.py#L79-L87"
   ]
  }
 ],
 "metadata": {
  "celltoolbar": "Slideshow",
  "kernelspec": {
   "display_name": "Python 3",
   "language": "python",
   "name": "python3"
  },
  "language_info": {
   "codemirror_mode": {
    "name": "ipython",
    "version": 3
   },
   "file_extension": ".py",
   "mimetype": "text/x-python",
   "name": "python",
   "nbconvert_exporter": "python",
   "pygments_lexer": "ipython3",
   "version": "3.6.1"
  }
 },
 "nbformat": 4,
 "nbformat_minor": 1
}
